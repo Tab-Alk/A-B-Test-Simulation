{
 "cells": [
  {
   "cell_type": "markdown",
   "metadata": {},
   "source": [
    "# A/B Testing Simulation and Analysis: Boosting Email Signup Rates"
   ]
  },
  {
   "cell_type": "markdown",
   "metadata": {},
   "source": [
    "## Import Libraries\n"
   ]
  },
  {
   "cell_type": "code",
   "execution_count": 2,
   "metadata": {},
   "outputs": [],
   "source": [
    "import numpy as np\n",
    "import pandas as pd\n",
    "import statsmodels.formula.api as smf\n",
    "from scipy.stats import ttest_ind\n",
    "import matplotlib.pyplot as plt\n",
    "import seaborn as sns\n",
    "\n",
    "sns.set_style(\"whitegrid\")"
   ]
  },
  {
   "cell_type": "markdown",
   "metadata": {},
   "source": [
    "## Data Simulation\n",
    "\n"
   ]
  },
  {
   "cell_type": "code",
   "execution_count": 3,
   "metadata": {},
   "outputs": [
    {
     "name": "stdout",
     "output_type": "stream",
     "text": [
      "--- Simulated Data Overview ---\n",
      "         count  mean\n",
      "treated             \n",
      "0        49952  0.30\n",
      "1        50048  0.33\n"
     ]
    }
   ],
   "source": [
    "np.random.seed(12345)\n",
    "\n",
    "# Randomly assign users to  control (0) or treatment (1) group.\n",
    "num_users = 100000\n",
    "groups = np.random.choice([0, 1], size=num_users, p=[0.5, 0.5])\n",
    "\n",
    "control_p = 0.3\n",
    "\n",
    "treatment_effect = 0.1\n",
    "\n",
    "\n",
    "treatment_p = control_p * (1 + treatment_effect)\n",
    "\n",
    "# Generate signup outcomes (0 for no signup, 1 for signup)\n",
    "signup = np.where(groups == 0,\n",
    "                  np.random.choice([0, 1], size=num_users, p=[1 - control_p, control_p]),\n",
    "                  np.random.choice([0, 1], size=num_users, p=[1 - treatment_p, treatment_p]))\n",
    "\n",
    "\n",
    "data = pd.DataFrame({\n",
    "    'treated': groups,  \n",
    "    'signup': signup     \n",
    "})\n",
    "\n",
    "print(\"--- Simulated Data Overview ---\")\n",
    "print(data.groupby(['treated'])['signup'].agg(['count', 'mean']).round(2))"
   ]
  },
  {
   "cell_type": "markdown",
   "metadata": {},
   "source": [
    "## Evaluate Experiment Using Linear Regression\n",
    "\n"
   ]
  },
  {
   "cell_type": "code",
   "execution_count": 4,
   "metadata": {},
   "outputs": [
    {
     "name": "stdout",
     "output_type": "stream",
     "text": [
      "--- Linear Regression (OLS) Results ---\n",
      "                            OLS Regression Results                            \n",
      "==============================================================================\n",
      "Dep. Variable:                 signup   R-squared:                       0.001\n",
      "Model:                            OLS   Adj. R-squared:                  0.001\n",
      "Method:                 Least Squares   F-statistic:                     131.4\n",
      "Date:                Wed, 28 May 2025   Prob (F-statistic):           2.06e-30\n",
      "Time:                        19:01:30   Log-Likelihood:                -65247.\n",
      "No. Observations:              100000   AIC:                         1.305e+05\n",
      "Df Residuals:                   99998   BIC:                         1.305e+05\n",
      "Df Model:                           1                                         \n",
      "Covariance Type:            nonrobust                                         \n",
      "==============================================================================\n",
      "                 coef    std err          t      P>|t|      [0.025      0.975]\n",
      "------------------------------------------------------------------------------\n",
      "Intercept      0.2992      0.002    143.938      0.000       0.295       0.303\n",
      "treated        0.0337      0.003     11.465      0.000       0.028       0.039\n",
      "==============================================================================\n",
      "Omnibus:                  1242876.903   Durbin-Watson:                   2.001\n",
      "Prob(Omnibus):                  0.000   Jarque-Bera (JB):            18215.398\n",
      "Skew:                           0.789   Prob(JB):                         0.00\n",
      "Kurtosis:                       1.629   Cond. No.                         2.62\n",
      "==============================================================================\n",
      "\n",
      "Notes:\n",
      "[1] Standard Errors assume that the covariance matrix of the errors is correctly specified.\n",
      "\n",
      "--- Key Metrics from Linear Regression ---\n",
      "The estimated absolute impact (difference) is: 3.37%\n",
      "The estimated relative impact is: 11.26%\n",
      "The t-statistic for the treatment effect is: 11.5\n",
      "The p-value for the treatment effect is: 0.00%\n"
     ]
    }
   ],
   "source": [
    "# linear regression \n",
    "formula = 'signup ~ treated'\n",
    "\n",
    "model = smf.ols(formula, data).fit()\n",
    "\n",
    "print(\"--- Linear Regression (OLS) Results ---\")\n",
    "print(model.summary())\n",
    "\n",
    "print(\"\\n--- Key Metrics from Linear Regression ---\")\n",
    "print(f\"The estimated absolute impact (difference) is: {100 * model.params['treated']:.2f}%\")\n",
    "print(f\"The estimated relative impact is: {100 * model.params['treated'] / model.params['Intercept']:.2f}%\")\n",
    "print(f\"The t-statistic for the treatment effect is: {model.tvalues['treated']:.1f}\")\n",
    "print(f\"The p-value for the treatment effect is: {100 * model.pvalues['treated']:.2f}%\")"
   ]
  },
  {
   "cell_type": "markdown",
   "metadata": {},
   "source": [
    "## Replicate Evaluation Using a Two-Sample T-test\n"
   ]
  },
  {
   "cell_type": "code",
   "execution_count": 13,
   "metadata": {},
   "outputs": [
    {
     "name": "stdout",
     "output_type": "stream",
     "text": [
      "--- Two-Sample T-test Results ---\n",
      "t-statistic: 11.5\n",
      "p-value: 0.00%\n"
     ]
    }
   ],
   "source": [
    "# t-test\n",
    "\n",
    "treated_users = data[data['treated'] == 1]['signup']\n",
    "control_users = data[data['treated'] == 0]['signup']\n",
    "\n",
    "\n",
    "t_stat, p_value = ttest_ind(treated_users, control_users)\n",
    "\n",
    "\n",
    "print(\"--- Two-Sample T-test Results ---\")\n",
    "print(f\"t-statistic: {t_stat:.1f}\")\n",
    "\n",
    "print(f\"p-value: {100 * p_value:.2f}%\")"
   ]
  },
  {
   "cell_type": "markdown",
   "metadata": {},
   "source": [
    "## Visualization of Signup Rates\n"
   ]
  },
  {
   "cell_type": "code",
   "execution_count": 15,
   "metadata": {},
   "outputs": [
    {
     "name": "stderr",
     "output_type": "stream",
     "text": [
      "/var/folders/75/9cdckgw11b7dp5n46n9rzphm0000gn/T/ipykernel_5615/1639978344.py:3: FutureWarning: \n",
      "\n",
      "The `ci` parameter is deprecated. Use `errorbar=('ci', 95)` for the same effect.\n",
      "\n",
      "  sns.barplot(x='treated', y='signup', data=data, ci=95, capsize=0.1)\n"
     ]
    },
    {
     "data": {
      "image/png": "[encoded data removed]",
      "text/plain": [
       "<Figure size 800x600 with 1 Axes>"
      ]
     },
     "metadata": {},
     "output_type": "display_data"
    }
   ],
   "source": [
    "plt.figure(figsize=(8, 6)) \n",
    "sns.barplot(x='treated', y='signup', data=data, ci=95, capsize=0.1)\n",
    "\n",
    "plt.xticks([0, 1], ['Control (Old Flow)', 'Treatment (New Flow)'], fontsize=12)\n",
    "\n",
    "\n",
    "plt.xlabel(\"Group\", fontsize=14)\n",
    "plt.ylabel(\"Mean Signup Rate\", fontsize=14)\n",
    "plt.title(\"Mean Email Signup Rate by Group (with 95% Confidence Intervals)\", fontsize=16)\n",
    "\n",
    "\n",
    "control_mean = data[data['treated'] == 0]['signup'].mean()\n",
    "treatment_mean = data[data['treated'] == 1]['signup'].mean()\n",
    "plt.text(0, control_mean + 0.01, f'{control_mean:.2f}', ha='center', va='bottom', color='black', fontsize=12)\n",
    "plt.text(1, treatment_mean + 0.01, f'{treatment_mean:.2f}', ha='center', va='bottom', color='black', fontsize=12)\n",
    "\n",
    "plt.ylim(0, max(control_mean, treatment_mean) + 0.05)\n",
    "\n",
    "plt.tight_layout()\n",
    "\n",
    "plt.show()"
   ]
  },
  {
   "cell_type": "markdown",
   "metadata": {},
   "source": [
    "## Conclusion\n",
    "\n"
   ]
  },
  {
   "cell_type": "code",
   "execution_count": 7,
   "metadata": {},
   "outputs": [
    {
     "name": "stdout",
     "output_type": "stream",
     "text": [
      "Conclusion\n",
      "The simulation was set up such that the control group had a 30% signup rate, \n",
      "and the treatment group's signup rate was designed to be 10% relatively higher than the control.\n",
      "\n",
      "Analysis  showed:\n",
      "- An estimated absolute increase in signup rate of approximately 3.37% for the new flow.\n",
      "- An estimated relative increase in signup rate of approximately 11.26%.\n",
      "- Both the linear regression and the two-sample t-test yielded highly statistically significant results \n",
      "  (p-values near 0.00%). This indicates that the observed difference is very unlikely due to random chance alone.\n"
     ]
    }
   ],
   "source": [
    "print(\"Conclusion\")\n",
    "print(f\"The simulation was set up such that the control group had a {control_p*100:.0f}% signup rate, \")\n",
    "print(f\"and the treatment group's signup rate was designed to be {treatment_effect*100:.0f}% relatively higher than the control.\")\n",
    "\n",
    "print(\"\\nAnalysis  showed:\")\n",
    "print(f\"- An estimated absolute increase in signup rate of approximately {100*model.params['treated']:.2f}% for the new flow.\")\n",
    "print(f\"- An estimated relative increase in signup rate of approximately {100*model.params['treated']/model.params['Intercept']:.2f}%.\")\n",
    "print(\"- Both the linear regression and the two-sample t-test yielded highly statistically significant results \")\n",
    "print(f\"  (p-values near {100*model.pvalues['treated']:.2f}%). This indicates that the observed difference is very unlikely due to random chance alone.\")\n"
   ]
  },
  {
   "cell_type": "code",
   "execution_count": null,
   "metadata": {},
   "outputs": [],
   "source": []
  }
 ],
 "metadata": {
  "kernelspec": {
   "display_name": "Python [conda env:base] *",
   "language": "python",
   "name": "conda-base-py"
  },
  "language_info": {
   "codemirror_mode": {
    "name": "ipython",
    "version": 3
   },
   "file_extension": ".py",
   "mimetype": "text/x-python",
   "name": "python",
   "nbconvert_exporter": "python",
   "pygments_lexer": "ipython3",
   "version": "3.12.7"
  }
 },
 "nbformat": 4,
 "nbformat_minor": 4
}
